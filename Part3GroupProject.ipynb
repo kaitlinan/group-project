{
 "cells": [
  {
   "cell_type": "code",
   "execution_count": 1,
   "id": "41a54247-9ce4-4c1e-8e1c-13fe9c681e56",
   "metadata": {},
   "outputs": [
    {
     "ename": "SyntaxError",
     "evalue": "invalid syntax (3436258820.py, line 3)",
     "output_type": "error",
     "traceback": [
      "\u001b[0;36m  Cell \u001b[0;32mIn[1], line 3\u001b[0;36m\u001b[0m\n\u001b[0;31m    residuals = #insert values\u001b[0m\n\u001b[0m                ^\u001b[0m\n\u001b[0;31mSyntaxError\u001b[0m\u001b[0;31m:\u001b[0m invalid syntax\n"
     ]
    }
   ],
   "source": [
    "#difference between fitted line and data\n",
    "residuals = np.abs(height - y_fit)\n",
    "\n",
    "#82 entries of data for 42 days\n",
    "n = 82\n",
    "\n",
    "x = residuals\n",
    "\n",
    "width = 0.25\n",
    "histmin = np.floor(min(x))\n",
    "histmax = np.ceil(max(x))+width\n",
    "\n",
    "bins = np.arange(histmin,histmax,width)\n",
    "plt.hist(x,bins=bins,alpha=0.5,edgecolor='black')\n",
    "plt.xlabel(\"Value of Residuals\")\n",
    "plt.ylabel(\"Amount of Residuals\")\n",
    "plt.savefig(\"redsiduals_histogram\",bbox_inches=\"tight\",facecolor=\"white\")\n",
    "\n",
    "#find the standard deviation\n",
    "def std():\n",
    "    return np.std(x)\n",
    "\n",
    "print(f\"The standard deviation of the residuals is {std()}\")"
   ]
  },
  {
   "cell_type": "code",
   "execution_count": null,
   "id": "d309940d-c782-494f-8409-fb55bd330e91",
   "metadata": {},
   "outputs": [],
   "source": []
  }
 ],
 "metadata": {
  "kernelspec": {
   "display_name": "ASTR 19",
   "language": "python",
   "name": "astr19"
  },
  "language_info": {
   "codemirror_mode": {
    "name": "ipython",
    "version": 3
   },
   "file_extension": ".py",
   "mimetype": "text/x-python",
   "name": "python",
   "nbconvert_exporter": "python",
   "pygments_lexer": "ipython3",
   "version": "3.10.12"
  }
 },
 "nbformat": 4,
 "nbformat_minor": 5
}
