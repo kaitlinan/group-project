{
 "cells": [
  {
   "cell_type": "code",
   "execution_count": 1,
   "id": "0432b0bd-79fb-407c-b98e-d6687e6ada9a",
   "metadata": {},
   "outputs": [],
   "source": [
    "import numpy as np\n",
    "import matplotlib.pyplot as plt\n",
    "from scipy import optimize"
   ]
  },
  {
   "cell_type": "code",
   "execution_count": 2,
   "id": "1a411c60-001d-462e-90ed-68f614fe371c",
   "metadata": {},
   "outputs": [],
   "source": [
    "data = np.genfromtxt(\"ASTR19_F24_group_project_data.txt\",\n",
    "                     dtype=[('day', 'i8'),('time','U6'),('height','f8')])\n",
    "\n",
    "day = []\n",
    "time = []\n",
    "height = []\n",
    "\n",
    "for i in range(82):\n",
    "    day.append(data[i][0])\n",
    "    time.append(data[i][1])\n",
    "    height.append(data[i][2])\n",
    "    \n",
    "timeint = []\n",
    "hour = []\n",
    "minute = []\n",
    "\n",
    "for i in range(82):\n",
    "    timeint.append(time[i].split(\":\"))\n",
    "    hour.append(int(timeint[i][0]))\n",
    "    minute.append(int(timeint[i][1]))\n",
    "    \n",
    "for i in range (82):\n",
    "    day[i] = day[i] + (hour[i] + (minute[i]/60))/24\n"
   ]
  },
  {
   "cell_type": "code",
   "execution_count": 3,
   "id": "b9e6cbe0-45ab-45a9-9533-b7471e585f2a",
   "metadata": {},
   "outputs": [],
   "source": [
    "def f_line(x, a, b, c, d):\n",
    "    return a * np.sin(b*x + c) + d\n",
    "\n",
    "params, params_cov = optimize.curve_fit(f_line, day, height, sigma = [0.25] * len(data), p0 = [4.2, 0.3, -2, 2.3])\n",
    "\n",
    "a_fit = params[0]\n",
    "b_fit = params[1]\n",
    "c_fit = params[2]\n",
    "d_fit = params[3]\n",
    "\n",
    "y_fit = f_line(np.array(day), a_fit, b_fit, c_fit, d_fit)"
   ]
  },
  {
   "cell_type": "code",
   "execution_count": 18,
   "id": "ff49a1de-078d-44ef-b3c3-91130ce0bbd8",
   "metadata": {},
   "outputs": [
    {
     "name": "stdout",
     "output_type": "stream",
     "text": [
      "The standard deviation of the residuals is 2.2671734503634102\n"
     ]
    },
    {
     "data": {
      "image/png": "[encoded data removed]",
      "text/plain": [
       "<Figure size 640x480 with 1 Axes>"
      ]
     },
     "metadata": {},
     "output_type": "display_data"
    }
   ],
   "source": [
    "#difference between fitted line and data\n",
    "residuals = (height - y_fit)\n",
    "\n",
    "residuals = np.append(residuals, 2)\n",
    "\n",
    "#82 entries of data for 42 days\n",
    "n = 83\n",
    "\n",
    "x = residuals\n",
    "\n",
    "width = 0.25\n",
    "histmin = np.floor(min(x))\n",
    "histmax = np.ceil(max(x))+width\n",
    "\n",
    "bins = np.arange(histmin,histmax,width)\n",
    "plt.hist(x,bins=bins,alpha=0.5,edgecolor='black')\n",
    "plt.xlabel(\"Value of Residuals\")\n",
    "plt.ylabel(\"Amount of Residuals\")\n",
    "plt.savefig(\"redsiduals_histogram\",bbox_inches=\"tight\",facecolor=\"white\")\n",
    "\n",
    "#find the standard deviation\n",
    "def std():\n",
    "    return np.std(x)\n",
    "\n",
    "print(f\"The standard deviation of the residuals is {std()}\")"
   ]
  },
  {
   "cell_type": "code",
   "execution_count": 24,
   "id": "30497c89-3144-41c5-8551-305db14da19b",
   "metadata": {},
   "outputs": [
    {
     "name": "stdout",
     "output_type": "stream",
     "text": [
      "The outlier is {answer()} deviations of the normal tides\n"
     ]
    }
   ],
   "source": [
    "def answer():\n",
    "    return (2/2.2671734503634102)\n",
    "\n",
    "print (\"The outlier is {answer()} deviations of the normal tides\")"
   ]
  },
  {
   "cell_type": "code",
   "execution_count": null,
   "id": "db48130c-9609-4953-8891-9899c0e30370",
   "metadata": {},
   "outputs": [],
   "source": []
  }
 ],
 "metadata": {
  "kernelspec": {
   "display_name": "ASTR 19",
   "language": "python",
   "name": "astr19"
  },
  "language_info": {
   "codemirror_mode": {
    "name": "ipython",
    "version": 3
   },
   "file_extension": ".py",
   "mimetype": "text/x-python",
   "name": "python",
   "nbconvert_exporter": "python",
   "pygments_lexer": "ipython3",
   "version": "3.10.12"
  }
 },
 "nbformat": 4,
 "nbformat_minor": 5
}
